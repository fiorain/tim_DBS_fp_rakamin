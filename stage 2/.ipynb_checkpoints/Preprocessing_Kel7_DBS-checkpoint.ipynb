{
 "cells": [
  {
   "cell_type": "code",
   "execution_count": 1,
   "id": "a8efec34-bce8-49d3-b7fc-8de399c025e0",
   "metadata": {},
   "outputs": [],
   "source": [
    "import numpy as np\n",
    "import pandas as pd\n",
    "import matplotlib.pyplot as plt\n",
    "from matplotlib import rcParams\n",
    "import seaborn as sns\n",
    "import inflection\n",
    "import scipy.stats as stats\n",
    "\n",
    "from sklearn.model_selection import train_test_split\n",
    "from sklearn.preprocessing import StandardScaler, RobustScaler, MinMaxScaler"
   ]
  },
  {
   "cell_type": "code",
   "execution_count": 2,
   "id": "39cf9bd0-3562-4406-a059-6190aa1c3a30",
   "metadata": {},
   "outputs": [],
   "source": [
    "df = pd.read_csv('C:/Users/fiori/Downloads/Folder Exercise and homework rakamin fiori/dataset_final_project/train.csv', sep=';')"
   ]
  },
  {
   "cell_type": "code",
   "execution_count": 3,
   "id": "a36c4415-4f65-4241-87da-e2b3f1d036bd",
   "metadata": {},
   "outputs": [
    {
     "name": "stdout",
     "output_type": "stream",
     "text": [
      "<class 'pandas.core.frame.DataFrame'>\n",
      "RangeIndex: 45211 entries, 0 to 45210\n",
      "Data columns (total 17 columns):\n",
      " #   Column     Non-Null Count  Dtype \n",
      "---  ------     --------------  ----- \n",
      " 0   age        45211 non-null  int64 \n",
      " 1   job        45211 non-null  object\n",
      " 2   marital    45211 non-null  object\n",
      " 3   education  45211 non-null  object\n",
      " 4   default    45211 non-null  object\n",
      " 5   balance    45211 non-null  int64 \n",
      " 6   housing    45211 non-null  object\n",
      " 7   loan       45211 non-null  object\n",
      " 8   contact    45211 non-null  object\n",
      " 9   day        45211 non-null  int64 \n",
      " 10  month      45211 non-null  object\n",
      " 11  duration   45211 non-null  int64 \n",
      " 12  campaign   45211 non-null  int64 \n",
      " 13  pdays      45211 non-null  int64 \n",
      " 14  previous   45211 non-null  int64 \n",
      " 15  poutcome   45211 non-null  object\n",
      " 16  y          45211 non-null  object\n",
      "dtypes: int64(7), object(10)\n",
      "memory usage: 5.9+ MB\n"
     ]
    }
   ],
   "source": [
    "df.info()"
   ]
  },
  {
   "cell_type": "code",
   "execution_count": 4,
   "id": "c255d8f8-2c73-436e-94cd-fa959fb3a8e8",
   "metadata": {},
   "outputs": [
    {
     "data": {
      "text/html": [
       "<div>\n",
       "<style scoped>\n",
       "    .dataframe tbody tr th:only-of-type {\n",
       "        vertical-align: middle;\n",
       "    }\n",
       "\n",
       "    .dataframe tbody tr th {\n",
       "        vertical-align: top;\n",
       "    }\n",
       "\n",
       "    .dataframe thead th {\n",
       "        text-align: right;\n",
       "    }\n",
       "</style>\n",
       "<table border=\"1\" class=\"dataframe\">\n",
       "  <thead>\n",
       "    <tr style=\"text-align: right;\">\n",
       "      <th></th>\n",
       "      <th>age</th>\n",
       "      <th>job</th>\n",
       "      <th>marital</th>\n",
       "      <th>education</th>\n",
       "      <th>default</th>\n",
       "      <th>balance</th>\n",
       "      <th>housing</th>\n",
       "      <th>loan</th>\n",
       "      <th>contact</th>\n",
       "      <th>day</th>\n",
       "      <th>month</th>\n",
       "      <th>duration</th>\n",
       "      <th>campaign</th>\n",
       "      <th>pdays</th>\n",
       "      <th>previous</th>\n",
       "      <th>poutcome</th>\n",
       "      <th>y</th>\n",
       "    </tr>\n",
       "  </thead>\n",
       "  <tbody>\n",
       "    <tr>\n",
       "      <th>0</th>\n",
       "      <td>58</td>\n",
       "      <td>management</td>\n",
       "      <td>married</td>\n",
       "      <td>tertiary</td>\n",
       "      <td>no</td>\n",
       "      <td>2143</td>\n",
       "      <td>yes</td>\n",
       "      <td>no</td>\n",
       "      <td>unknown</td>\n",
       "      <td>5</td>\n",
       "      <td>may</td>\n",
       "      <td>261</td>\n",
       "      <td>1</td>\n",
       "      <td>-1</td>\n",
       "      <td>0</td>\n",
       "      <td>unknown</td>\n",
       "      <td>no</td>\n",
       "    </tr>\n",
       "    <tr>\n",
       "      <th>1</th>\n",
       "      <td>44</td>\n",
       "      <td>technician</td>\n",
       "      <td>single</td>\n",
       "      <td>secondary</td>\n",
       "      <td>no</td>\n",
       "      <td>29</td>\n",
       "      <td>yes</td>\n",
       "      <td>no</td>\n",
       "      <td>unknown</td>\n",
       "      <td>5</td>\n",
       "      <td>may</td>\n",
       "      <td>151</td>\n",
       "      <td>1</td>\n",
       "      <td>-1</td>\n",
       "      <td>0</td>\n",
       "      <td>unknown</td>\n",
       "      <td>no</td>\n",
       "    </tr>\n",
       "    <tr>\n",
       "      <th>2</th>\n",
       "      <td>33</td>\n",
       "      <td>entrepreneur</td>\n",
       "      <td>married</td>\n",
       "      <td>secondary</td>\n",
       "      <td>no</td>\n",
       "      <td>2</td>\n",
       "      <td>yes</td>\n",
       "      <td>yes</td>\n",
       "      <td>unknown</td>\n",
       "      <td>5</td>\n",
       "      <td>may</td>\n",
       "      <td>76</td>\n",
       "      <td>1</td>\n",
       "      <td>-1</td>\n",
       "      <td>0</td>\n",
       "      <td>unknown</td>\n",
       "      <td>no</td>\n",
       "    </tr>\n",
       "    <tr>\n",
       "      <th>3</th>\n",
       "      <td>47</td>\n",
       "      <td>blue-collar</td>\n",
       "      <td>married</td>\n",
       "      <td>unknown</td>\n",
       "      <td>no</td>\n",
       "      <td>1506</td>\n",
       "      <td>yes</td>\n",
       "      <td>no</td>\n",
       "      <td>unknown</td>\n",
       "      <td>5</td>\n",
       "      <td>may</td>\n",
       "      <td>92</td>\n",
       "      <td>1</td>\n",
       "      <td>-1</td>\n",
       "      <td>0</td>\n",
       "      <td>unknown</td>\n",
       "      <td>no</td>\n",
       "    </tr>\n",
       "    <tr>\n",
       "      <th>4</th>\n",
       "      <td>33</td>\n",
       "      <td>unknown</td>\n",
       "      <td>single</td>\n",
       "      <td>unknown</td>\n",
       "      <td>no</td>\n",
       "      <td>1</td>\n",
       "      <td>no</td>\n",
       "      <td>no</td>\n",
       "      <td>unknown</td>\n",
       "      <td>5</td>\n",
       "      <td>may</td>\n",
       "      <td>198</td>\n",
       "      <td>1</td>\n",
       "      <td>-1</td>\n",
       "      <td>0</td>\n",
       "      <td>unknown</td>\n",
       "      <td>no</td>\n",
       "    </tr>\n",
       "  </tbody>\n",
       "</table>\n",
       "</div>"
      ],
      "text/plain": [
       "   age           job  marital  education default  balance housing loan  \\\n",
       "0   58    management  married   tertiary      no     2143     yes   no   \n",
       "1   44    technician   single  secondary      no       29     yes   no   \n",
       "2   33  entrepreneur  married  secondary      no        2     yes  yes   \n",
       "3   47   blue-collar  married    unknown      no     1506     yes   no   \n",
       "4   33       unknown   single    unknown      no        1      no   no   \n",
       "\n",
       "   contact  day month  duration  campaign  pdays  previous poutcome   y  \n",
       "0  unknown    5   may       261         1     -1         0  unknown  no  \n",
       "1  unknown    5   may       151         1     -1         0  unknown  no  \n",
       "2  unknown    5   may        76         1     -1         0  unknown  no  \n",
       "3  unknown    5   may        92         1     -1         0  unknown  no  \n",
       "4  unknown    5   may       198         1     -1         0  unknown  no  "
      ]
     },
     "execution_count": 4,
     "metadata": {},
     "output_type": "execute_result"
    }
   ],
   "source": [
    "df.head()"
   ]
  },
  {
   "cell_type": "code",
   "execution_count": 49,
   "id": "940efdf5-e169-4453-833d-b22e5ecf06b8",
   "metadata": {},
   "outputs": [],
   "source": [
    "#membagi data numerics dan categorics\n",
    "nums = ['balance', 'day', 'age', 'duration', 'campaign', 'pdays', 'previous']\n",
    "cats = ['job', 'marital', 'education', 'default', 'housing', 'loan', 'contact', \n",
    "        'month', 'poutcome', 'y']"
   ]
  },
  {
   "cell_type": "markdown",
   "id": "7b909b19-e5fa-4d78-a7ca-c76b7180ac9f",
   "metadata": {},
   "source": [
    "# 1. Data Cleansing"
   ]
  },
  {
   "cell_type": "markdown",
   "id": "72ea1d79-494d-44b3-b48e-a3cae2ed71a8",
   "metadata": {},
   "source": [
    "# 1.A. Handle Missing Value"
   ]
  },
  {
   "cell_type": "code",
   "execution_count": 7,
   "id": "d5e868bc-b479-4f60-b54c-75c5dfda2954",
   "metadata": {},
   "outputs": [
    {
     "data": {
      "text/plain": [
       "age          0\n",
       "job          0\n",
       "marital      0\n",
       "education    0\n",
       "default      0\n",
       "balance      0\n",
       "housing      0\n",
       "loan         0\n",
       "contact      0\n",
       "day          0\n",
       "month        0\n",
       "duration     0\n",
       "campaign     0\n",
       "pdays        0\n",
       "previous     0\n",
       "poutcome     0\n",
       "y            0\n",
       "dtype: int64"
      ]
     },
     "execution_count": 7,
     "metadata": {},
     "output_type": "execute_result"
    }
   ],
   "source": [
    "df.isnull().sum()"
   ]
  },
  {
   "cell_type": "markdown",
   "id": "bf111ba8-b57a-45fa-b53d-c77c06261f8a",
   "metadata": {},
   "source": [
    "***Tidak ada missing values pada dataset, sehingga tidak perlu dihandle***"
   ]
  },
  {
   "cell_type": "markdown",
   "id": "6b3f6e23-6faa-432a-810b-f2057592877d",
   "metadata": {},
   "source": [
    "# 1.B. Handle Duplicated Data"
   ]
  },
  {
   "cell_type": "code",
   "execution_count": 8,
   "id": "4aa1d80f-26e7-4d79-8bcf-1dd13a5a96e3",
   "metadata": {},
   "outputs": [
    {
     "data": {
      "text/plain": [
       "0"
      ]
     },
     "execution_count": 8,
     "metadata": {},
     "output_type": "execute_result"
    }
   ],
   "source": [
    "df.duplicated().sum()"
   ]
  },
  {
   "cell_type": "markdown",
   "id": "562e1ade-e780-41d4-8dff-5c2865a4113f",
   "metadata": {},
   "source": [
    "***Tidak ada data yg duplikat pada dataset, sehingga tidak perlu dihandle***"
   ]
  },
  {
   "cell_type": "markdown",
   "id": "f19f3577-d99c-4aab-8141-9b7ac30f3813",
   "metadata": {},
   "source": [
    "# 1.C. Handle Outlier"
   ]
  },
  {
   "cell_type": "markdown",
   "id": "d48bdf6f-8363-4763-9adc-3e6a3a244b6b",
   "metadata": {},
   "source": [
    "***Kondisi Feature Numerik sebelum dilakukan metode z-score***"
   ]
  },
  {
   "cell_type": "code",
   "execution_count": 9,
   "id": "5e81c366-d643-4b65-9085-b78cd3a3db4b",
   "metadata": {},
   "outputs": [
    {
     "data": {
      "image/png": "[encoded data removed]",
      "text/plain": [
       "<Figure size 1080x432 with 7 Axes>"
      ]
     },
     "metadata": {
      "needs_background": "light"
     },
     "output_type": "display_data"
    }
   ],
   "source": [
    "plt.figure(figsize=(15,6))\n",
    "for i, col in enumerate(nums):\n",
    "    plt.subplot(2, 4, i+1)            \n",
    "    sns.boxplot(\n",
    "        x=df[col], \n",
    "        orient='h',\n",
    "        palette='GnBu'\n",
    "    )\n",
    "    plt.xlabel(col, fontsize=14)\n",
    "    plt.grid(axis='x', alpha=0.5)\n",
    "    plt.tight_layout()\n",
    "plt.show() "
   ]
  },
  {
   "cell_type": "markdown",
   "id": "fffe2048-82a6-4f68-bc00-5d3d0e2487f9",
   "metadata": {},
   "source": [
    "***Kondisi Feature Numerik setelah dilakukan metode z-score***"
   ]
  },
  {
   "cell_type": "code",
   "execution_count": 10,
   "id": "e355a26c-5a58-4a2c-be53-c1999993031d",
   "metadata": {},
   "outputs": [
    {
     "data": {
      "image/png": "[encoded data removed]",
      "text/plain": [
       "<Figure size 1080x432 with 7 Axes>"
      ]
     },
     "metadata": {
      "needs_background": "light"
     },
     "output_type": "display_data"
    }
   ],
   "source": [
    "plt.figure(figsize=(15,6))\n",
    "\n",
    "filtered_entries = np.array([True] * len(df))\n",
    "for col in nums:\n",
    "    zscore = abs(stats.zscore(df[col])) # hitung absolute z-scorenya\n",
    "    filtered_entries = (zscore < 3) & filtered_entries # keep yang kurang dari 3 absolute z-scorenya\n",
    "    \n",
    "df_bersih = df[filtered_entries] # filter, cuma ambil yang z-scorenya dibawah 3\n",
    "for i, col in enumerate(nums):\n",
    "    plt.subplot(2, 4, i+1)            \n",
    "    sns.boxplot(\n",
    "        x=df_bersih[col], \n",
    "        orient='h',\n",
    "        palette='GnBu'\n",
    "    )\n",
    "    plt.xlabel(col, fontsize=14)\n",
    "    plt.grid(axis='x', alpha=0.5)\n",
    "    plt.tight_layout()\n",
    "plt.show() "
   ]
  },
  {
   "cell_type": "markdown",
   "id": "ec06a6fd-2076-4662-b840-a862c46eacb1",
   "metadata": {},
   "source": [
    "***Dengan metode Z-Score pada kolom `campaign`, `duration`,dan `age`,mengalami penurunan outlier.***"
   ]
  },
  {
   "cell_type": "markdown",
   "id": "877e6057-6e01-4f25-a9c3-901319b47b31",
   "metadata": {},
   "source": [
    "Kesimpulan pada penanganan outlier:\n",
    "\n",
    "Dalam menggunakan metode untuk menangani outlier, yaitu metode Z-Score, ternyata metode Z-Score memiliki metode yg sangat baik dalam mengangani penurunan outlier."
   ]
  },
  {
   "cell_type": "markdown",
   "id": "53e836bf-535a-41aa-a259-f377a9041696",
   "metadata": {},
   "source": [
    "# 1.D. Feature Transformation"
   ]
  },
  {
   "cell_type": "markdown",
   "id": "b2f98de1-a230-4d89-a960-713bf660c87e",
   "metadata": {},
   "source": [
    "***Statistik deskriptif feature numerik sebelum normalisasi.***"
   ]
  },
  {
   "cell_type": "code",
   "execution_count": 11,
   "id": "61e5efb8-bf7c-42a4-9d0b-121b869c2c58",
   "metadata": {},
   "outputs": [
    {
     "data": {
      "text/html": [
       "<div>\n",
       "<style scoped>\n",
       "    .dataframe tbody tr th:only-of-type {\n",
       "        vertical-align: middle;\n",
       "    }\n",
       "\n",
       "    .dataframe tbody tr th {\n",
       "        vertical-align: top;\n",
       "    }\n",
       "\n",
       "    .dataframe thead th {\n",
       "        text-align: right;\n",
       "    }\n",
       "</style>\n",
       "<table border=\"1\" class=\"dataframe\">\n",
       "  <thead>\n",
       "    <tr style=\"text-align: right;\">\n",
       "      <th></th>\n",
       "      <th>count</th>\n",
       "      <th>mean</th>\n",
       "      <th>std</th>\n",
       "      <th>min</th>\n",
       "      <th>25%</th>\n",
       "      <th>50%</th>\n",
       "      <th>75%</th>\n",
       "      <th>max</th>\n",
       "    </tr>\n",
       "  </thead>\n",
       "  <tbody>\n",
       "    <tr>\n",
       "      <th>age</th>\n",
       "      <td>45211.0</td>\n",
       "      <td>40.936210</td>\n",
       "      <td>10.618762</td>\n",
       "      <td>18.0</td>\n",
       "      <td>33.0</td>\n",
       "      <td>39.0</td>\n",
       "      <td>48.0</td>\n",
       "      <td>95.0</td>\n",
       "    </tr>\n",
       "    <tr>\n",
       "      <th>balance</th>\n",
       "      <td>45211.0</td>\n",
       "      <td>1362.272058</td>\n",
       "      <td>3044.765829</td>\n",
       "      <td>-8019.0</td>\n",
       "      <td>72.0</td>\n",
       "      <td>448.0</td>\n",
       "      <td>1428.0</td>\n",
       "      <td>102127.0</td>\n",
       "    </tr>\n",
       "    <tr>\n",
       "      <th>day</th>\n",
       "      <td>45211.0</td>\n",
       "      <td>15.806419</td>\n",
       "      <td>8.322476</td>\n",
       "      <td>1.0</td>\n",
       "      <td>8.0</td>\n",
       "      <td>16.0</td>\n",
       "      <td>21.0</td>\n",
       "      <td>31.0</td>\n",
       "    </tr>\n",
       "    <tr>\n",
       "      <th>duration</th>\n",
       "      <td>45211.0</td>\n",
       "      <td>258.163080</td>\n",
       "      <td>257.527812</td>\n",
       "      <td>0.0</td>\n",
       "      <td>103.0</td>\n",
       "      <td>180.0</td>\n",
       "      <td>319.0</td>\n",
       "      <td>4918.0</td>\n",
       "    </tr>\n",
       "    <tr>\n",
       "      <th>campaign</th>\n",
       "      <td>45211.0</td>\n",
       "      <td>2.763841</td>\n",
       "      <td>3.098021</td>\n",
       "      <td>1.0</td>\n",
       "      <td>1.0</td>\n",
       "      <td>2.0</td>\n",
       "      <td>3.0</td>\n",
       "      <td>63.0</td>\n",
       "    </tr>\n",
       "    <tr>\n",
       "      <th>pdays</th>\n",
       "      <td>45211.0</td>\n",
       "      <td>40.197828</td>\n",
       "      <td>100.128746</td>\n",
       "      <td>-1.0</td>\n",
       "      <td>-1.0</td>\n",
       "      <td>-1.0</td>\n",
       "      <td>-1.0</td>\n",
       "      <td>871.0</td>\n",
       "    </tr>\n",
       "    <tr>\n",
       "      <th>previous</th>\n",
       "      <td>45211.0</td>\n",
       "      <td>0.580323</td>\n",
       "      <td>2.303441</td>\n",
       "      <td>0.0</td>\n",
       "      <td>0.0</td>\n",
       "      <td>0.0</td>\n",
       "      <td>0.0</td>\n",
       "      <td>275.0</td>\n",
       "    </tr>\n",
       "  </tbody>\n",
       "</table>\n",
       "</div>"
      ],
      "text/plain": [
       "            count         mean          std     min    25%    50%     75%  \\\n",
       "age       45211.0    40.936210    10.618762    18.0   33.0   39.0    48.0   \n",
       "balance   45211.0  1362.272058  3044.765829 -8019.0   72.0  448.0  1428.0   \n",
       "day       45211.0    15.806419     8.322476     1.0    8.0   16.0    21.0   \n",
       "duration  45211.0   258.163080   257.527812     0.0  103.0  180.0   319.0   \n",
       "campaign  45211.0     2.763841     3.098021     1.0    1.0    2.0     3.0   \n",
       "pdays     45211.0    40.197828   100.128746    -1.0   -1.0   -1.0    -1.0   \n",
       "previous  45211.0     0.580323     2.303441     0.0    0.0    0.0     0.0   \n",
       "\n",
       "               max  \n",
       "age           95.0  \n",
       "balance   102127.0  \n",
       "day           31.0  \n",
       "duration    4918.0  \n",
       "campaign      63.0  \n",
       "pdays        871.0  \n",
       "previous     275.0  "
      ]
     },
     "execution_count": 11,
     "metadata": {},
     "output_type": "execute_result"
    }
   ],
   "source": [
    "df.describe().T"
   ]
  },
  {
   "cell_type": "markdown",
   "id": "69a7788f-1115-46e2-88b7-34a6546addbe",
   "metadata": {},
   "source": [
    "**Feature numerik setelah di-rescale dengan MinMaxScaler**"
   ]
  },
  {
   "cell_type": "code",
   "execution_count": 12,
   "id": "d3f4be32-7ffe-4baf-a1f7-5330c589325c",
   "metadata": {},
   "outputs": [],
   "source": [
    "def data_scaling(df, nums, scaler):\n",
    "    df = df.copy()\n",
    "    \n",
    "    # apply yeo-johnson transformer\n",
    "    for var in df[nums]:\n",
    "        df[var], _ = stats.yeojohnson(df[var])\n",
    "    \n",
    "    # apply a scaler to data\n",
    "    df[nums] = scaler.fit_transform(df[nums])\n",
    "    \n",
    "    return df[nums].describe().round(3).T"
   ]
  },
  {
   "cell_type": "code",
   "execution_count": 13,
   "id": "e6f8c6a5-e020-4dc7-9481-bf37a691dc9c",
   "metadata": {},
   "outputs": [
    {
     "data": {
      "text/html": [
       "<div>\n",
       "<style scoped>\n",
       "    .dataframe tbody tr th:only-of-type {\n",
       "        vertical-align: middle;\n",
       "    }\n",
       "\n",
       "    .dataframe tbody tr th {\n",
       "        vertical-align: top;\n",
       "    }\n",
       "\n",
       "    .dataframe thead th {\n",
       "        text-align: right;\n",
       "    }\n",
       "</style>\n",
       "<table border=\"1\" class=\"dataframe\">\n",
       "  <thead>\n",
       "    <tr style=\"text-align: right;\">\n",
       "      <th></th>\n",
       "      <th>count</th>\n",
       "      <th>mean</th>\n",
       "      <th>std</th>\n",
       "      <th>min</th>\n",
       "      <th>25%</th>\n",
       "      <th>50%</th>\n",
       "      <th>75%</th>\n",
       "      <th>max</th>\n",
       "    </tr>\n",
       "  </thead>\n",
       "  <tbody>\n",
       "    <tr>\n",
       "      <th>balance</th>\n",
       "      <td>45211.0</td>\n",
       "      <td>0.623</td>\n",
       "      <td>0.018</td>\n",
       "      <td>0.0</td>\n",
       "      <td>0.616</td>\n",
       "      <td>0.619</td>\n",
       "      <td>0.626</td>\n",
       "      <td>1.0</td>\n",
       "    </tr>\n",
       "    <tr>\n",
       "      <th>day</th>\n",
       "      <td>45211.0</td>\n",
       "      <td>0.556</td>\n",
       "      <td>0.267</td>\n",
       "      <td>0.0</td>\n",
       "      <td>0.315</td>\n",
       "      <td>0.584</td>\n",
       "      <td>0.732</td>\n",
       "      <td>1.0</td>\n",
       "    </tr>\n",
       "    <tr>\n",
       "      <th>age</th>\n",
       "      <td>45211.0</td>\n",
       "      <td>0.505</td>\n",
       "      <td>0.154</td>\n",
       "      <td>0.0</td>\n",
       "      <td>0.395</td>\n",
       "      <td>0.498</td>\n",
       "      <td>0.622</td>\n",
       "      <td>1.0</td>\n",
       "    </tr>\n",
       "    <tr>\n",
       "      <th>duration</th>\n",
       "      <td>45211.0</td>\n",
       "      <td>0.477</td>\n",
       "      <td>0.115</td>\n",
       "      <td>0.0</td>\n",
       "      <td>0.406</td>\n",
       "      <td>0.474</td>\n",
       "      <td>0.549</td>\n",
       "      <td>1.0</td>\n",
       "    </tr>\n",
       "    <tr>\n",
       "      <th>campaign</th>\n",
       "      <td>45211.0</td>\n",
       "      <td>0.325</td>\n",
       "      <td>0.293</td>\n",
       "      <td>0.0</td>\n",
       "      <td>0.000</td>\n",
       "      <td>0.364</td>\n",
       "      <td>0.541</td>\n",
       "      <td>1.0</td>\n",
       "    </tr>\n",
       "    <tr>\n",
       "      <th>pdays</th>\n",
       "      <td>45211.0</td>\n",
       "      <td>0.180</td>\n",
       "      <td>0.381</td>\n",
       "      <td>0.0</td>\n",
       "      <td>0.000</td>\n",
       "      <td>0.000</td>\n",
       "      <td>0.000</td>\n",
       "      <td>1.0</td>\n",
       "    </tr>\n",
       "    <tr>\n",
       "      <th>previous</th>\n",
       "      <td>45211.0</td>\n",
       "      <td>0.178</td>\n",
       "      <td>0.378</td>\n",
       "      <td>0.0</td>\n",
       "      <td>0.000</td>\n",
       "      <td>0.000</td>\n",
       "      <td>0.000</td>\n",
       "      <td>1.0</td>\n",
       "    </tr>\n",
       "  </tbody>\n",
       "</table>\n",
       "</div>"
      ],
      "text/plain": [
       "            count   mean    std  min    25%    50%    75%  max\n",
       "balance   45211.0  0.623  0.018  0.0  0.616  0.619  0.626  1.0\n",
       "day       45211.0  0.556  0.267  0.0  0.315  0.584  0.732  1.0\n",
       "age       45211.0  0.505  0.154  0.0  0.395  0.498  0.622  1.0\n",
       "duration  45211.0  0.477  0.115  0.0  0.406  0.474  0.549  1.0\n",
       "campaign  45211.0  0.325  0.293  0.0  0.000  0.364  0.541  1.0\n",
       "pdays     45211.0  0.180  0.381  0.0  0.000  0.000  0.000  1.0\n",
       "previous  45211.0  0.178  0.378  0.0  0.000  0.000  0.000  1.0"
      ]
     },
     "execution_count": 13,
     "metadata": {},
     "output_type": "execute_result"
    }
   ],
   "source": [
    "data_scaling(df, nums, scaler=MinMaxScaler())"
   ]
  },
  {
   "cell_type": "markdown",
   "id": "56d15ed3-d0a3-4b15-9325-a7ce5be1f3fa",
   "metadata": {},
   "source": [
    "***Kesimpulan diatas adalah, setelah menggunakan normalisasi dengan feature minmaxscaler nilai min dan max berubah menjadi 0-1***"
   ]
  },
  {
   "cell_type": "markdown",
   "id": "adf774d1-e5fb-4278-8814-7744a50f86f9",
   "metadata": {},
   "source": [
    "**Feature numerik setelah di-rescale dengan StandardScaler dan RobustScaler**"
   ]
  },
  {
   "cell_type": "code",
   "execution_count": 14,
   "id": "19234dbd-85a4-4906-8c48-12782ce231b7",
   "metadata": {},
   "outputs": [
    {
     "data": {
      "text/html": [
       "<div>\n",
       "<style scoped>\n",
       "    .dataframe tbody tr th:only-of-type {\n",
       "        vertical-align: middle;\n",
       "    }\n",
       "\n",
       "    .dataframe tbody tr th {\n",
       "        vertical-align: top;\n",
       "    }\n",
       "\n",
       "    .dataframe thead th {\n",
       "        text-align: right;\n",
       "    }\n",
       "</style>\n",
       "<table border=\"1\" class=\"dataframe\">\n",
       "  <thead>\n",
       "    <tr style=\"text-align: right;\">\n",
       "      <th></th>\n",
       "      <th>count</th>\n",
       "      <th>mean</th>\n",
       "      <th>std</th>\n",
       "      <th>min</th>\n",
       "      <th>25%</th>\n",
       "      <th>50%</th>\n",
       "      <th>75%</th>\n",
       "      <th>max</th>\n",
       "    </tr>\n",
       "  </thead>\n",
       "  <tbody>\n",
       "    <tr>\n",
       "      <th>balance</th>\n",
       "      <td>45211.0</td>\n",
       "      <td>0.0</td>\n",
       "      <td>1.0</td>\n",
       "      <td>-34.880</td>\n",
       "      <td>-0.384</td>\n",
       "      <td>-0.205</td>\n",
       "      <td>0.170</td>\n",
       "      <td>21.137</td>\n",
       "    </tr>\n",
       "    <tr>\n",
       "      <th>day</th>\n",
       "      <td>45211.0</td>\n",
       "      <td>-0.0</td>\n",
       "      <td>1.0</td>\n",
       "      <td>-2.086</td>\n",
       "      <td>-0.905</td>\n",
       "      <td>0.106</td>\n",
       "      <td>0.660</td>\n",
       "      <td>1.665</td>\n",
       "    </tr>\n",
       "    <tr>\n",
       "      <th>age</th>\n",
       "      <td>45211.0</td>\n",
       "      <td>0.0</td>\n",
       "      <td>1.0</td>\n",
       "      <td>-3.280</td>\n",
       "      <td>-0.710</td>\n",
       "      <td>-0.042</td>\n",
       "      <td>0.764</td>\n",
       "      <td>3.219</td>\n",
       "    </tr>\n",
       "    <tr>\n",
       "      <th>duration</th>\n",
       "      <td>45211.0</td>\n",
       "      <td>0.0</td>\n",
       "      <td>1.0</td>\n",
       "      <td>-4.162</td>\n",
       "      <td>-0.622</td>\n",
       "      <td>-0.033</td>\n",
       "      <td>0.621</td>\n",
       "      <td>4.556</td>\n",
       "    </tr>\n",
       "    <tr>\n",
       "      <th>campaign</th>\n",
       "      <td>45211.0</td>\n",
       "      <td>-0.0</td>\n",
       "      <td>1.0</td>\n",
       "      <td>-1.108</td>\n",
       "      <td>-1.108</td>\n",
       "      <td>0.135</td>\n",
       "      <td>0.738</td>\n",
       "      <td>2.304</td>\n",
       "    </tr>\n",
       "    <tr>\n",
       "      <th>pdays</th>\n",
       "      <td>45211.0</td>\n",
       "      <td>0.0</td>\n",
       "      <td>1.0</td>\n",
       "      <td>-0.473</td>\n",
       "      <td>-0.473</td>\n",
       "      <td>-0.473</td>\n",
       "      <td>-0.473</td>\n",
       "      <td>2.154</td>\n",
       "    </tr>\n",
       "    <tr>\n",
       "      <th>previous</th>\n",
       "      <td>45211.0</td>\n",
       "      <td>0.0</td>\n",
       "      <td>1.0</td>\n",
       "      <td>-0.472</td>\n",
       "      <td>-0.472</td>\n",
       "      <td>-0.472</td>\n",
       "      <td>-0.472</td>\n",
       "      <td>2.176</td>\n",
       "    </tr>\n",
       "  </tbody>\n",
       "</table>\n",
       "</div>"
      ],
      "text/plain": [
       "            count  mean  std     min    25%    50%    75%     max\n",
       "balance   45211.0   0.0  1.0 -34.880 -0.384 -0.205  0.170  21.137\n",
       "day       45211.0  -0.0  1.0  -2.086 -0.905  0.106  0.660   1.665\n",
       "age       45211.0   0.0  1.0  -3.280 -0.710 -0.042  0.764   3.219\n",
       "duration  45211.0   0.0  1.0  -4.162 -0.622 -0.033  0.621   4.556\n",
       "campaign  45211.0  -0.0  1.0  -1.108 -1.108  0.135  0.738   2.304\n",
       "pdays     45211.0   0.0  1.0  -0.473 -0.473 -0.473 -0.473   2.154\n",
       "previous  45211.0   0.0  1.0  -0.472 -0.472 -0.472 -0.472   2.176"
      ]
     },
     "execution_count": 14,
     "metadata": {},
     "output_type": "execute_result"
    }
   ],
   "source": [
    "data_scaling(df, nums, scaler=StandardScaler())"
   ]
  },
  {
   "cell_type": "markdown",
   "id": "b21cc319-92e7-454a-9fd0-a2629cb0cf6d",
   "metadata": {},
   "source": [
    "***Kesimpulan diatas meggunakan standar scaler berfungsi untuk mengubah nilai mean menjadi 0 dan std menjadi 1***"
   ]
  },
  {
   "cell_type": "code",
   "execution_count": 15,
   "id": "3c6f4886-d7ca-4ccd-ad3d-0207ce739577",
   "metadata": {},
   "outputs": [
    {
     "data": {
      "text/html": [
       "<div>\n",
       "<style scoped>\n",
       "    .dataframe tbody tr th:only-of-type {\n",
       "        vertical-align: middle;\n",
       "    }\n",
       "\n",
       "    .dataframe tbody tr th {\n",
       "        vertical-align: top;\n",
       "    }\n",
       "\n",
       "    .dataframe thead th {\n",
       "        text-align: right;\n",
       "    }\n",
       "</style>\n",
       "<table border=\"1\" class=\"dataframe\">\n",
       "  <thead>\n",
       "    <tr style=\"text-align: right;\">\n",
       "      <th></th>\n",
       "      <th>count</th>\n",
       "      <th>mean</th>\n",
       "      <th>std</th>\n",
       "      <th>min</th>\n",
       "      <th>25%</th>\n",
       "      <th>50%</th>\n",
       "      <th>75%</th>\n",
       "      <th>max</th>\n",
       "    </tr>\n",
       "  </thead>\n",
       "  <tbody>\n",
       "    <tr>\n",
       "      <th>balance</th>\n",
       "      <td>45211.0</td>\n",
       "      <td>0.370</td>\n",
       "      <td>1.803</td>\n",
       "      <td>-62.519</td>\n",
       "      <td>-0.323</td>\n",
       "      <td>0.0</td>\n",
       "      <td>0.677</td>\n",
       "      <td>38.481</td>\n",
       "    </tr>\n",
       "    <tr>\n",
       "      <th>day</th>\n",
       "      <td>45211.0</td>\n",
       "      <td>-0.068</td>\n",
       "      <td>0.639</td>\n",
       "      <td>-1.400</td>\n",
       "      <td>-0.646</td>\n",
       "      <td>0.0</td>\n",
       "      <td>0.354</td>\n",
       "      <td>0.996</td>\n",
       "    </tr>\n",
       "    <tr>\n",
       "      <th>age</th>\n",
       "      <td>45211.0</td>\n",
       "      <td>0.028</td>\n",
       "      <td>0.679</td>\n",
       "      <td>-2.198</td>\n",
       "      <td>-0.453</td>\n",
       "      <td>0.0</td>\n",
       "      <td>0.547</td>\n",
       "      <td>2.213</td>\n",
       "    </tr>\n",
       "    <tr>\n",
       "      <th>duration</th>\n",
       "      <td>45211.0</td>\n",
       "      <td>0.026</td>\n",
       "      <td>0.804</td>\n",
       "      <td>-3.322</td>\n",
       "      <td>-0.474</td>\n",
       "      <td>0.0</td>\n",
       "      <td>0.526</td>\n",
       "      <td>3.691</td>\n",
       "    </tr>\n",
       "    <tr>\n",
       "      <th>campaign</th>\n",
       "      <td>45211.0</td>\n",
       "      <td>-0.073</td>\n",
       "      <td>0.542</td>\n",
       "      <td>-0.673</td>\n",
       "      <td>-0.673</td>\n",
       "      <td>0.0</td>\n",
       "      <td>0.327</td>\n",
       "      <td>1.175</td>\n",
       "    </tr>\n",
       "    <tr>\n",
       "      <th>pdays</th>\n",
       "      <td>45211.0</td>\n",
       "      <td>0.644</td>\n",
       "      <td>1.363</td>\n",
       "      <td>0.000</td>\n",
       "      <td>0.000</td>\n",
       "      <td>0.0</td>\n",
       "      <td>0.000</td>\n",
       "      <td>3.581</td>\n",
       "    </tr>\n",
       "    <tr>\n",
       "      <th>previous</th>\n",
       "      <td>45211.0</td>\n",
       "      <td>0.044</td>\n",
       "      <td>0.092</td>\n",
       "      <td>-0.000</td>\n",
       "      <td>-0.000</td>\n",
       "      <td>0.0</td>\n",
       "      <td>-0.000</td>\n",
       "      <td>0.244</td>\n",
       "    </tr>\n",
       "  </tbody>\n",
       "</table>\n",
       "</div>"
      ],
      "text/plain": [
       "            count   mean    std     min    25%  50%    75%     max\n",
       "balance   45211.0  0.370  1.803 -62.519 -0.323  0.0  0.677  38.481\n",
       "day       45211.0 -0.068  0.639  -1.400 -0.646  0.0  0.354   0.996\n",
       "age       45211.0  0.028  0.679  -2.198 -0.453  0.0  0.547   2.213\n",
       "duration  45211.0  0.026  0.804  -3.322 -0.474  0.0  0.526   3.691\n",
       "campaign  45211.0 -0.073  0.542  -0.673 -0.673  0.0  0.327   1.175\n",
       "pdays     45211.0  0.644  1.363   0.000  0.000  0.0  0.000   3.581\n",
       "previous  45211.0  0.044  0.092  -0.000 -0.000  0.0 -0.000   0.244"
      ]
     },
     "execution_count": 15,
     "metadata": {},
     "output_type": "execute_result"
    }
   ],
   "source": [
    "data_scaling(df, nums, scaler=RobustScaler())"
   ]
  },
  {
   "cell_type": "markdown",
   "id": "243e6b23-da6a-436a-8602-6dfd27eabe67",
   "metadata": {},
   "source": [
    "***Kesimpulan diatas jika scaling dengan robustscaler dan terdapat banyak outlier menggunakan nilai median dan IQR kemungkinan akan membatu meningkatkan performa.***"
   ]
  },
  {
   "cell_type": "markdown",
   "id": "9f7126ef-4dae-4bd2-b8cc-2269f43250a1",
   "metadata": {},
   "source": [
    "# 1.E. Feature Encoding"
   ]
  },
  {
   "cell_type": "code",
   "execution_count": 16,
   "id": "4deac236-faa9-4dd8-ba27-c0084ed9a763",
   "metadata": {},
   "outputs": [
    {
     "data": {
      "text/html": [
       "<div>\n",
       "<style scoped>\n",
       "    .dataframe tbody tr th:only-of-type {\n",
       "        vertical-align: middle;\n",
       "    }\n",
       "\n",
       "    .dataframe tbody tr th {\n",
       "        vertical-align: top;\n",
       "    }\n",
       "\n",
       "    .dataframe thead th {\n",
       "        text-align: right;\n",
       "    }\n",
       "</style>\n",
       "<table border=\"1\" class=\"dataframe\">\n",
       "  <thead>\n",
       "    <tr style=\"text-align: right;\">\n",
       "      <th></th>\n",
       "      <th>job</th>\n",
       "      <th>marital</th>\n",
       "      <th>education</th>\n",
       "      <th>default</th>\n",
       "      <th>housing</th>\n",
       "      <th>loan</th>\n",
       "      <th>contact</th>\n",
       "      <th>month</th>\n",
       "      <th>poutcome</th>\n",
       "      <th>y</th>\n",
       "    </tr>\n",
       "  </thead>\n",
       "  <tbody>\n",
       "    <tr>\n",
       "      <th>count</th>\n",
       "      <td>45211</td>\n",
       "      <td>45211</td>\n",
       "      <td>45211</td>\n",
       "      <td>45211</td>\n",
       "      <td>45211</td>\n",
       "      <td>45211</td>\n",
       "      <td>45211</td>\n",
       "      <td>45211</td>\n",
       "      <td>45211</td>\n",
       "      <td>45211</td>\n",
       "    </tr>\n",
       "    <tr>\n",
       "      <th>unique</th>\n",
       "      <td>12</td>\n",
       "      <td>3</td>\n",
       "      <td>4</td>\n",
       "      <td>2</td>\n",
       "      <td>2</td>\n",
       "      <td>2</td>\n",
       "      <td>3</td>\n",
       "      <td>12</td>\n",
       "      <td>4</td>\n",
       "      <td>2</td>\n",
       "    </tr>\n",
       "    <tr>\n",
       "      <th>top</th>\n",
       "      <td>blue-collar</td>\n",
       "      <td>married</td>\n",
       "      <td>secondary</td>\n",
       "      <td>no</td>\n",
       "      <td>yes</td>\n",
       "      <td>no</td>\n",
       "      <td>cellular</td>\n",
       "      <td>may</td>\n",
       "      <td>unknown</td>\n",
       "      <td>no</td>\n",
       "    </tr>\n",
       "    <tr>\n",
       "      <th>freq</th>\n",
       "      <td>9732</td>\n",
       "      <td>27214</td>\n",
       "      <td>23202</td>\n",
       "      <td>44396</td>\n",
       "      <td>25130</td>\n",
       "      <td>37967</td>\n",
       "      <td>29285</td>\n",
       "      <td>13766</td>\n",
       "      <td>36959</td>\n",
       "      <td>39922</td>\n",
       "    </tr>\n",
       "  </tbody>\n",
       "</table>\n",
       "</div>"
      ],
      "text/plain": [
       "                job  marital  education default housing   loan   contact  \\\n",
       "count         45211    45211      45211   45211   45211  45211     45211   \n",
       "unique           12        3          4       2       2      2         3   \n",
       "top     blue-collar  married  secondary      no     yes     no  cellular   \n",
       "freq           9732    27214      23202   44396   25130  37967     29285   \n",
       "\n",
       "        month poutcome      y  \n",
       "count   45211    45211  45211  \n",
       "unique     12        4      2  \n",
       "top       may  unknown     no  \n",
       "freq    13766    36959  39922  "
      ]
     },
     "execution_count": 16,
     "metadata": {},
     "output_type": "execute_result"
    }
   ],
   "source": [
    "df[cats].describe()"
   ]
  },
  {
   "cell_type": "markdown",
   "id": "47a4e084-fb49-4904-ba43-c6605c86cd17",
   "metadata": {},
   "source": [
    "Feature Encodding:\n",
    "\n",
    "-. OHE : untuk fitur/kolom yg memiliki unique value < 5, seperti kolom selain `job` dan `month`\n",
    "\n",
    "-. Freq Encoding : untuk fitur/kolom yg memiliki unique value >= 5, seperti kolom `job`\n",
    "\n",
    "-. Tetapi pada fitur/kolom `month`, menggunakan fitur encoding berdasarkan quarter (q1-q4)"
   ]
  },
  {
   "cell_type": "markdown",
   "id": "b87316db-0dd4-4fd6-b715-17b97d218c2e",
   "metadata": {},
   "source": [
    "***One Hot Encoding***"
   ]
  },
  {
   "cell_type": "code",
   "execution_count": 17,
   "id": "2eb9df25-7382-4e32-881d-a4696360e4aa",
   "metadata": {},
   "outputs": [],
   "source": [
    "for i in ['marital', 'education', 'default', 'housing', 'loan', 'contact', 'poutcome']:\n",
    "    onehot = pd.get_dummies(df[i], prefix=i)\n",
    "    df = df.join(onehot)"
   ]
  },
  {
   "cell_type": "markdown",
   "id": "20156f3c-ba7f-4025-8b13-bd808757b9f6",
   "metadata": {},
   "source": [
    "***Label Encoding***"
   ]
  },
  {
   "cell_type": "code",
   "execution_count": 18,
   "id": "d610b3c8-237e-470a-8b4b-b6c97a28cfd2",
   "metadata": {},
   "outputs": [],
   "source": [
    "y_map = {'no' : 0, 'yes' : 1}\n",
    "\n",
    "df['y_int'] = df['y'].map(y_map)"
   ]
  },
  {
   "cell_type": "code",
   "execution_count": 19,
   "id": "fe6dfb57-aa38-484d-8c18-4a67f2913fd4",
   "metadata": {},
   "outputs": [
    {
     "name": "stdout",
     "output_type": "stream",
     "text": [
      "<class 'pandas.core.frame.DataFrame'>\n",
      "RangeIndex: 45211 entries, 0 to 45210\n",
      "Data columns (total 38 columns):\n",
      " #   Column               Non-Null Count  Dtype \n",
      "---  ------               --------------  ----- \n",
      " 0   age                  45211 non-null  int64 \n",
      " 1   job                  45211 non-null  object\n",
      " 2   marital              45211 non-null  object\n",
      " 3   education            45211 non-null  object\n",
      " 4   default              45211 non-null  object\n",
      " 5   balance              45211 non-null  int64 \n",
      " 6   housing              45211 non-null  object\n",
      " 7   loan                 45211 non-null  object\n",
      " 8   contact              45211 non-null  object\n",
      " 9   day                  45211 non-null  int64 \n",
      " 10  month                45211 non-null  object\n",
      " 11  duration             45211 non-null  int64 \n",
      " 12  campaign             45211 non-null  int64 \n",
      " 13  pdays                45211 non-null  int64 \n",
      " 14  previous             45211 non-null  int64 \n",
      " 15  poutcome             45211 non-null  object\n",
      " 16  y                    45211 non-null  object\n",
      " 17  marital_divorced     45211 non-null  uint8 \n",
      " 18  marital_married      45211 non-null  uint8 \n",
      " 19  marital_single       45211 non-null  uint8 \n",
      " 20  education_primary    45211 non-null  uint8 \n",
      " 21  education_secondary  45211 non-null  uint8 \n",
      " 22  education_tertiary   45211 non-null  uint8 \n",
      " 23  education_unknown    45211 non-null  uint8 \n",
      " 24  default_no           45211 non-null  uint8 \n",
      " 25  default_yes          45211 non-null  uint8 \n",
      " 26  housing_no           45211 non-null  uint8 \n",
      " 27  housing_yes          45211 non-null  uint8 \n",
      " 28  loan_no              45211 non-null  uint8 \n",
      " 29  loan_yes             45211 non-null  uint8 \n",
      " 30  contact_cellular     45211 non-null  uint8 \n",
      " 31  contact_telephone    45211 non-null  uint8 \n",
      " 32  contact_unknown      45211 non-null  uint8 \n",
      " 33  poutcome_failure     45211 non-null  uint8 \n",
      " 34  poutcome_other       45211 non-null  uint8 \n",
      " 35  poutcome_success     45211 non-null  uint8 \n",
      " 36  poutcome_unknown     45211 non-null  uint8 \n",
      " 37  y_int                45211 non-null  int64 \n",
      "dtypes: int64(8), object(10), uint8(20)\n",
      "memory usage: 7.1+ MB\n"
     ]
    }
   ],
   "source": [
    "df.info()"
   ]
  },
  {
   "cell_type": "markdown",
   "id": "083bd543-27a3-410d-8945-88576651f403",
   "metadata": {},
   "source": [
    "***Menambahkan kolom segmentasi bulan.***"
   ]
  },
  {
   "cell_type": "code",
   "execution_count": 20,
   "id": "e820cd87-9a7c-43e2-b711-dee5514b391d",
   "metadata": {},
   "outputs": [],
   "source": [
    "def monthSegmented(x):\n",
    "    prefix = x['month'][:3]\n",
    "    if prefix == 'jan' or prefix == 'feb' or prefix == 'mar':\n",
    "        monthSegmented = 'q1'\n",
    "    elif prefix == 'apr' or prefix == 'may' or prefix == 'jun':\n",
    "        monthSegmented = 'q2'\n",
    "    elif prefix == 'jul' or prefix == 'aug' or prefix == 'sep':\n",
    "        monthSegmented = 'q3'\n",
    "    elif prefix == 'oct' or prefix == 'nov' or prefix == 'dec':\n",
    "        monthSegmented = 'q4'\n",
    "    else :\n",
    "        monthSegmented = 'Others'\n",
    "    return monthSegmented"
   ]
  },
  {
   "cell_type": "code",
   "execution_count": 21,
   "id": "c9b5c0dc-d83b-4085-bafc-77644c1fe2c5",
   "metadata": {},
   "outputs": [],
   "source": [
    "df['month_segment'] = df.apply(lambda x:monthSegmented(x), axis=1 )"
   ]
  },
  {
   "cell_type": "code",
   "execution_count": 22,
   "id": "9aa283f6-2c2d-4610-bbae-d9d0b78d80f4",
   "metadata": {},
   "outputs": [
    {
     "data": {
      "text/html": [
       "<div>\n",
       "<style scoped>\n",
       "    .dataframe tbody tr th:only-of-type {\n",
       "        vertical-align: middle;\n",
       "    }\n",
       "\n",
       "    .dataframe tbody tr th {\n",
       "        vertical-align: top;\n",
       "    }\n",
       "\n",
       "    .dataframe thead th {\n",
       "        text-align: right;\n",
       "    }\n",
       "</style>\n",
       "<table border=\"1\" class=\"dataframe\">\n",
       "  <thead>\n",
       "    <tr style=\"text-align: right;\">\n",
       "      <th></th>\n",
       "      <th>month</th>\n",
       "      <th>month_segment</th>\n",
       "    </tr>\n",
       "  </thead>\n",
       "  <tbody>\n",
       "    <tr>\n",
       "      <th>6367</th>\n",
       "      <td>may</td>\n",
       "      <td>q2</td>\n",
       "    </tr>\n",
       "    <tr>\n",
       "      <th>29547</th>\n",
       "      <td>feb</td>\n",
       "      <td>q1</td>\n",
       "    </tr>\n",
       "    <tr>\n",
       "      <th>36613</th>\n",
       "      <td>may</td>\n",
       "      <td>q2</td>\n",
       "    </tr>\n",
       "    <tr>\n",
       "      <th>23252</th>\n",
       "      <td>aug</td>\n",
       "      <td>q3</td>\n",
       "    </tr>\n",
       "    <tr>\n",
       "      <th>28200</th>\n",
       "      <td>jan</td>\n",
       "      <td>q1</td>\n",
       "    </tr>\n",
       "    <tr>\n",
       "      <th>17855</th>\n",
       "      <td>jul</td>\n",
       "      <td>q3</td>\n",
       "    </tr>\n",
       "    <tr>\n",
       "      <th>27987</th>\n",
       "      <td>jan</td>\n",
       "      <td>q1</td>\n",
       "    </tr>\n",
       "    <tr>\n",
       "      <th>26486</th>\n",
       "      <td>nov</td>\n",
       "      <td>q4</td>\n",
       "    </tr>\n",
       "    <tr>\n",
       "      <th>34105</th>\n",
       "      <td>apr</td>\n",
       "      <td>q2</td>\n",
       "    </tr>\n",
       "    <tr>\n",
       "      <th>3352</th>\n",
       "      <td>may</td>\n",
       "      <td>q2</td>\n",
       "    </tr>\n",
       "  </tbody>\n",
       "</table>\n",
       "</div>"
      ],
      "text/plain": [
       "      month month_segment\n",
       "6367    may            q2\n",
       "29547   feb            q1\n",
       "36613   may            q2\n",
       "23252   aug            q3\n",
       "28200   jan            q1\n",
       "17855   jul            q3\n",
       "27987   jan            q1\n",
       "26486   nov            q4\n",
       "34105   apr            q2\n",
       "3352    may            q2"
      ]
     },
     "execution_count": 22,
     "metadata": {},
     "output_type": "execute_result"
    }
   ],
   "source": [
    "df[['month', 'month_segment']].sample(10)"
   ]
  },
  {
   "cell_type": "code",
   "execution_count": 23,
   "id": "157465d6-7741-4486-8b17-4cfa57c7c6f4",
   "metadata": {},
   "outputs": [
    {
     "data": {
      "text/plain": [
       "q2    22039\n",
       "q3    13721\n",
       "q4     4922\n",
       "q1     4529\n",
       "Name: month_segment, dtype: int64"
      ]
     },
     "execution_count": 23,
     "metadata": {},
     "output_type": "execute_result"
    }
   ],
   "source": [
    "df['month_segment'].value_counts()"
   ]
  },
  {
   "cell_type": "markdown",
   "id": "9aaed883-7ab8-46c0-91f9-122bb5b79219",
   "metadata": {},
   "source": [
    "***Menambahkan kolom freq pekerjaan.***"
   ]
  },
  {
   "cell_type": "code",
   "execution_count": 24,
   "id": "6c91f22f-e3f6-4292-bade-03d3587cf4c3",
   "metadata": {},
   "outputs": [
    {
     "data": {
      "text/plain": [
       "blue-collar      9732\n",
       "management       9458\n",
       "technician       7597\n",
       "admin.           5171\n",
       "services         4154\n",
       "retired          2264\n",
       "self-employed    1579\n",
       "entrepreneur     1487\n",
       "unemployed       1303\n",
       "housemaid        1240\n",
       "student           938\n",
       "unknown           288\n",
       "Name: job, dtype: int64"
      ]
     },
     "execution_count": 24,
     "metadata": {},
     "output_type": "execute_result"
    }
   ],
   "source": [
    "df['job'].value_counts()"
   ]
  },
  {
   "cell_type": "code",
   "execution_count": 25,
   "id": "f9c87058-e015-4b37-9306-9c53b95e7c6a",
   "metadata": {},
   "outputs": [
    {
     "data": {
      "text/html": [
       "<div>\n",
       "<style scoped>\n",
       "    .dataframe tbody tr th:only-of-type {\n",
       "        vertical-align: middle;\n",
       "    }\n",
       "\n",
       "    .dataframe tbody tr th {\n",
       "        vertical-align: top;\n",
       "    }\n",
       "\n",
       "    .dataframe thead th {\n",
       "        text-align: right;\n",
       "    }\n",
       "</style>\n",
       "<table border=\"1\" class=\"dataframe\">\n",
       "  <thead>\n",
       "    <tr style=\"text-align: right;\">\n",
       "      <th></th>\n",
       "      <th>job</th>\n",
       "      <th>job_frequency</th>\n",
       "      <th>job_freq_percentage</th>\n",
       "      <th>job_freq_rank</th>\n",
       "    </tr>\n",
       "  </thead>\n",
       "  <tbody>\n",
       "    <tr>\n",
       "      <th>0</th>\n",
       "      <td>blue-collar</td>\n",
       "      <td>9732</td>\n",
       "      <td>21.525735</td>\n",
       "      <td>12.0</td>\n",
       "    </tr>\n",
       "    <tr>\n",
       "      <th>1</th>\n",
       "      <td>management</td>\n",
       "      <td>9458</td>\n",
       "      <td>20.919688</td>\n",
       "      <td>11.0</td>\n",
       "    </tr>\n",
       "    <tr>\n",
       "      <th>2</th>\n",
       "      <td>technician</td>\n",
       "      <td>7597</td>\n",
       "      <td>16.803433</td>\n",
       "      <td>10.0</td>\n",
       "    </tr>\n",
       "    <tr>\n",
       "      <th>3</th>\n",
       "      <td>admin.</td>\n",
       "      <td>5171</td>\n",
       "      <td>11.437482</td>\n",
       "      <td>9.0</td>\n",
       "    </tr>\n",
       "    <tr>\n",
       "      <th>4</th>\n",
       "      <td>services</td>\n",
       "      <td>4154</td>\n",
       "      <td>9.188029</td>\n",
       "      <td>8.0</td>\n",
       "    </tr>\n",
       "    <tr>\n",
       "      <th>5</th>\n",
       "      <td>retired</td>\n",
       "      <td>2264</td>\n",
       "      <td>5.007631</td>\n",
       "      <td>7.0</td>\n",
       "    </tr>\n",
       "    <tr>\n",
       "      <th>6</th>\n",
       "      <td>self-employed</td>\n",
       "      <td>1579</td>\n",
       "      <td>3.492513</td>\n",
       "      <td>6.0</td>\n",
       "    </tr>\n",
       "    <tr>\n",
       "      <th>7</th>\n",
       "      <td>entrepreneur</td>\n",
       "      <td>1487</td>\n",
       "      <td>3.289023</td>\n",
       "      <td>5.0</td>\n",
       "    </tr>\n",
       "    <tr>\n",
       "      <th>8</th>\n",
       "      <td>unemployed</td>\n",
       "      <td>1303</td>\n",
       "      <td>2.882042</td>\n",
       "      <td>4.0</td>\n",
       "    </tr>\n",
       "    <tr>\n",
       "      <th>9</th>\n",
       "      <td>housemaid</td>\n",
       "      <td>1240</td>\n",
       "      <td>2.742695</td>\n",
       "      <td>3.0</td>\n",
       "    </tr>\n",
       "    <tr>\n",
       "      <th>10</th>\n",
       "      <td>student</td>\n",
       "      <td>938</td>\n",
       "      <td>2.074716</td>\n",
       "      <td>2.0</td>\n",
       "    </tr>\n",
       "    <tr>\n",
       "      <th>11</th>\n",
       "      <td>unknown</td>\n",
       "      <td>288</td>\n",
       "      <td>0.637013</td>\n",
       "      <td>1.0</td>\n",
       "    </tr>\n",
       "  </tbody>\n",
       "</table>\n",
       "</div>"
      ],
      "text/plain": [
       "              job  job_frequency  job_freq_percentage  job_freq_rank\n",
       "0     blue-collar           9732            21.525735           12.0\n",
       "1      management           9458            20.919688           11.0\n",
       "2      technician           7597            16.803433           10.0\n",
       "3          admin.           5171            11.437482            9.0\n",
       "4        services           4154             9.188029            8.0\n",
       "5         retired           2264             5.007631            7.0\n",
       "6   self-employed           1579             3.492513            6.0\n",
       "7    entrepreneur           1487             3.289023            5.0\n",
       "8      unemployed           1303             2.882042            4.0\n",
       "9       housemaid           1240             2.742695            3.0\n",
       "10        student            938             2.074716            2.0\n",
       "11        unknown            288             0.637013            1.0"
      ]
     },
     "execution_count": 25,
     "metadata": {},
     "output_type": "execute_result"
    }
   ],
   "source": [
    "# Calculate the frequency\n",
    "df_freq_update = df[\"job\"].value_counts().reset_index()\n",
    "\n",
    "# Create Encoding by Percentage and Rank\n",
    "df_freq_update[\"job_freq_percentage\"] = (100.0*df_freq_update[\"job\"]) / df_freq_update[\"job\"].sum()\n",
    "df_freq_update[\"job_freq_rank\"] = df_freq_update[\"job\"].rank()\n",
    "\n",
    "# Rename the column\n",
    "df_freq_update = df_freq_update.rename(columns = {\"index\": \"job\",\"job\": \"job_frequency\"})\n",
    "df_freq_update"
   ]
  },
  {
   "cell_type": "code",
   "execution_count": 26,
   "id": "dbffa7ae-3f2b-4c87-8476-46c5fbbcf702",
   "metadata": {},
   "outputs": [
    {
     "data": {
      "text/html": [
       "<div>\n",
       "<style scoped>\n",
       "    .dataframe tbody tr th:only-of-type {\n",
       "        vertical-align: middle;\n",
       "    }\n",
       "\n",
       "    .dataframe tbody tr th {\n",
       "        vertical-align: top;\n",
       "    }\n",
       "\n",
       "    .dataframe thead th {\n",
       "        text-align: right;\n",
       "    }\n",
       "</style>\n",
       "<table border=\"1\" class=\"dataframe\">\n",
       "  <thead>\n",
       "    <tr style=\"text-align: right;\">\n",
       "      <th></th>\n",
       "      <th>age</th>\n",
       "      <th>job</th>\n",
       "      <th>marital</th>\n",
       "      <th>education</th>\n",
       "      <th>default</th>\n",
       "      <th>balance</th>\n",
       "      <th>housing</th>\n",
       "      <th>loan</th>\n",
       "      <th>contact</th>\n",
       "      <th>day</th>\n",
       "      <th>...</th>\n",
       "      <th>contact_unknown</th>\n",
       "      <th>poutcome_failure</th>\n",
       "      <th>poutcome_other</th>\n",
       "      <th>poutcome_success</th>\n",
       "      <th>poutcome_unknown</th>\n",
       "      <th>y_int</th>\n",
       "      <th>month_segment</th>\n",
       "      <th>job_frequency</th>\n",
       "      <th>job_freq_percentage</th>\n",
       "      <th>job_freq_rank</th>\n",
       "    </tr>\n",
       "  </thead>\n",
       "  <tbody>\n",
       "    <tr>\n",
       "      <th>2939</th>\n",
       "      <td>59</td>\n",
       "      <td>management</td>\n",
       "      <td>married</td>\n",
       "      <td>tertiary</td>\n",
       "      <td>no</td>\n",
       "      <td>1308</td>\n",
       "      <td>no</td>\n",
       "      <td>no</td>\n",
       "      <td>cellular</td>\n",
       "      <td>30</td>\n",
       "      <td>...</td>\n",
       "      <td>0</td>\n",
       "      <td>0</td>\n",
       "      <td>0</td>\n",
       "      <td>0</td>\n",
       "      <td>1</td>\n",
       "      <td>0</td>\n",
       "      <td>q3</td>\n",
       "      <td>9458</td>\n",
       "      <td>20.919688</td>\n",
       "      <td>11.0</td>\n",
       "    </tr>\n",
       "    <tr>\n",
       "      <th>41852</th>\n",
       "      <td>40</td>\n",
       "      <td>unemployed</td>\n",
       "      <td>married</td>\n",
       "      <td>secondary</td>\n",
       "      <td>no</td>\n",
       "      <td>277</td>\n",
       "      <td>yes</td>\n",
       "      <td>no</td>\n",
       "      <td>unknown</td>\n",
       "      <td>26</td>\n",
       "      <td>...</td>\n",
       "      <td>1</td>\n",
       "      <td>0</td>\n",
       "      <td>0</td>\n",
       "      <td>0</td>\n",
       "      <td>1</td>\n",
       "      <td>0</td>\n",
       "      <td>q2</td>\n",
       "      <td>1303</td>\n",
       "      <td>2.882042</td>\n",
       "      <td>4.0</td>\n",
       "    </tr>\n",
       "    <tr>\n",
       "      <th>33526</th>\n",
       "      <td>33</td>\n",
       "      <td>admin.</td>\n",
       "      <td>divorced</td>\n",
       "      <td>secondary</td>\n",
       "      <td>no</td>\n",
       "      <td>1762</td>\n",
       "      <td>yes</td>\n",
       "      <td>no</td>\n",
       "      <td>cellular</td>\n",
       "      <td>19</td>\n",
       "      <td>...</td>\n",
       "      <td>0</td>\n",
       "      <td>0</td>\n",
       "      <td>0</td>\n",
       "      <td>0</td>\n",
       "      <td>1</td>\n",
       "      <td>0</td>\n",
       "      <td>q4</td>\n",
       "      <td>5171</td>\n",
       "      <td>11.437482</td>\n",
       "      <td>9.0</td>\n",
       "    </tr>\n",
       "    <tr>\n",
       "      <th>2218</th>\n",
       "      <td>38</td>\n",
       "      <td>management</td>\n",
       "      <td>married</td>\n",
       "      <td>tertiary</td>\n",
       "      <td>no</td>\n",
       "      <td>465</td>\n",
       "      <td>yes</td>\n",
       "      <td>yes</td>\n",
       "      <td>cellular</td>\n",
       "      <td>15</td>\n",
       "      <td>...</td>\n",
       "      <td>0</td>\n",
       "      <td>0</td>\n",
       "      <td>0</td>\n",
       "      <td>0</td>\n",
       "      <td>1</td>\n",
       "      <td>0</td>\n",
       "      <td>q3</td>\n",
       "      <td>9458</td>\n",
       "      <td>20.919688</td>\n",
       "      <td>11.0</td>\n",
       "    </tr>\n",
       "    <tr>\n",
       "      <th>28234</th>\n",
       "      <td>33</td>\n",
       "      <td>blue-collar</td>\n",
       "      <td>single</td>\n",
       "      <td>secondary</td>\n",
       "      <td>no</td>\n",
       "      <td>329</td>\n",
       "      <td>no</td>\n",
       "      <td>no</td>\n",
       "      <td>cellular</td>\n",
       "      <td>6</td>\n",
       "      <td>...</td>\n",
       "      <td>0</td>\n",
       "      <td>0</td>\n",
       "      <td>1</td>\n",
       "      <td>0</td>\n",
       "      <td>0</td>\n",
       "      <td>1</td>\n",
       "      <td>q3</td>\n",
       "      <td>9732</td>\n",
       "      <td>21.525735</td>\n",
       "      <td>12.0</td>\n",
       "    </tr>\n",
       "  </tbody>\n",
       "</table>\n",
       "<p>5 rows × 42 columns</p>\n",
       "</div>"
      ],
      "text/plain": [
       "       age          job   marital  education default  balance housing loan  \\\n",
       "2939    59   management   married   tertiary      no     1308      no   no   \n",
       "41852   40   unemployed   married  secondary      no      277     yes   no   \n",
       "33526   33       admin.  divorced  secondary      no     1762     yes   no   \n",
       "2218    38   management   married   tertiary      no      465     yes  yes   \n",
       "28234   33  blue-collar    single  secondary      no      329      no   no   \n",
       "\n",
       "        contact  day  ... contact_unknown  poutcome_failure  poutcome_other  \\\n",
       "2939   cellular   30  ...               0                 0               0   \n",
       "41852   unknown   26  ...               1                 0               0   \n",
       "33526  cellular   19  ...               0                 0               0   \n",
       "2218   cellular   15  ...               0                 0               0   \n",
       "28234  cellular    6  ...               0                 0               1   \n",
       "\n",
       "       poutcome_success  poutcome_unknown y_int month_segment  job_frequency  \\\n",
       "2939                  0                 1     0            q3           9458   \n",
       "41852                 0                 1     0            q2           1303   \n",
       "33526                 0                 1     0            q4           5171   \n",
       "2218                  0                 1     0            q3           9458   \n",
       "28234                 0                 0     1            q3           9732   \n",
       "\n",
       "       job_freq_percentage  job_freq_rank  \n",
       "2939             20.919688           11.0  \n",
       "41852             2.882042            4.0  \n",
       "33526            11.437482            9.0  \n",
       "2218             20.919688           11.0  \n",
       "28234            21.525735           12.0  \n",
       "\n",
       "[5 rows x 42 columns]"
      ]
     },
     "execution_count": 26,
     "metadata": {},
     "output_type": "execute_result"
    }
   ],
   "source": [
    "# Merge the Frequency percentage / rank with the default dataframe\n",
    "df = df.merge(df_freq_update, on='job')\n",
    "df.sample(5)"
   ]
  },
  {
   "cell_type": "code",
   "execution_count": 27,
   "id": "91dcf323-8494-4959-8160-19ab76223a60",
   "metadata": {},
   "outputs": [
    {
     "name": "stdout",
     "output_type": "stream",
     "text": [
      "<class 'pandas.core.frame.DataFrame'>\n",
      "Int64Index: 45211 entries, 0 to 45210\n",
      "Data columns (total 42 columns):\n",
      " #   Column               Non-Null Count  Dtype  \n",
      "---  ------               --------------  -----  \n",
      " 0   age                  45211 non-null  int64  \n",
      " 1   job                  45211 non-null  object \n",
      " 2   marital              45211 non-null  object \n",
      " 3   education            45211 non-null  object \n",
      " 4   default              45211 non-null  object \n",
      " 5   balance              45211 non-null  int64  \n",
      " 6   housing              45211 non-null  object \n",
      " 7   loan                 45211 non-null  object \n",
      " 8   contact              45211 non-null  object \n",
      " 9   day                  45211 non-null  int64  \n",
      " 10  month                45211 non-null  object \n",
      " 11  duration             45211 non-null  int64  \n",
      " 12  campaign             45211 non-null  int64  \n",
      " 13  pdays                45211 non-null  int64  \n",
      " 14  previous             45211 non-null  int64  \n",
      " 15  poutcome             45211 non-null  object \n",
      " 16  y                    45211 non-null  object \n",
      " 17  marital_divorced     45211 non-null  uint8  \n",
      " 18  marital_married      45211 non-null  uint8  \n",
      " 19  marital_single       45211 non-null  uint8  \n",
      " 20  education_primary    45211 non-null  uint8  \n",
      " 21  education_secondary  45211 non-null  uint8  \n",
      " 22  education_tertiary   45211 non-null  uint8  \n",
      " 23  education_unknown    45211 non-null  uint8  \n",
      " 24  default_no           45211 non-null  uint8  \n",
      " 25  default_yes          45211 non-null  uint8  \n",
      " 26  housing_no           45211 non-null  uint8  \n",
      " 27  housing_yes          45211 non-null  uint8  \n",
      " 28  loan_no              45211 non-null  uint8  \n",
      " 29  loan_yes             45211 non-null  uint8  \n",
      " 30  contact_cellular     45211 non-null  uint8  \n",
      " 31  contact_telephone    45211 non-null  uint8  \n",
      " 32  contact_unknown      45211 non-null  uint8  \n",
      " 33  poutcome_failure     45211 non-null  uint8  \n",
      " 34  poutcome_other       45211 non-null  uint8  \n",
      " 35  poutcome_success     45211 non-null  uint8  \n",
      " 36  poutcome_unknown     45211 non-null  uint8  \n",
      " 37  y_int                45211 non-null  int64  \n",
      " 38  month_segment        45211 non-null  object \n",
      " 39  job_frequency        45211 non-null  int64  \n",
      " 40  job_freq_percentage  45211 non-null  float64\n",
      " 41  job_freq_rank        45211 non-null  float64\n",
      "dtypes: float64(2), int64(9), object(11), uint8(20)\n",
      "memory usage: 8.8+ MB\n"
     ]
    }
   ],
   "source": [
    "df.info()"
   ]
  },
  {
   "cell_type": "markdown",
   "id": "4a8eabf9-29fd-4aaf-8e46-adfa315518d2",
   "metadata": {},
   "source": [
    "# 1.F. Imbalance Class"
   ]
  },
  {
   "cell_type": "markdown",
   "id": "bc13a1de-74f2-4174-80d1-946effd84ae5",
   "metadata": {},
   "source": [
    "Karena terdapat class imbalance dengan ratio 89:11 (majority class: minority class) pada kolom target maka ada beberapa cara yang harus digunakan sebagai berikut\n",
    "* Melakukan resampling (oversampling, undersampling, or over-undersampling) agar target class ratio menjadi balance.\n",
    "* Menggunakan metrik evaluasi model yang tepat seperti ROC-AUC atau f1-score."
   ]
  },
  {
   "cell_type": "code",
   "execution_count": 28,
   "id": "dbc64f91-8225-4538-b738-9bed07db8694",
   "metadata": {},
   "outputs": [],
   "source": [
    "from imblearn import under_sampling, over_sampling"
   ]
  },
  {
   "cell_type": "code",
   "execution_count": 33,
   "id": "98adb6f4-168b-4c05-80a7-fdc0f1185eb9",
   "metadata": {},
   "outputs": [
    {
     "data": {
      "text/plain": [
       "False    39922\n",
       "True      5289\n",
       "Name: y_class, dtype: int64"
      ]
     },
     "execution_count": 33,
     "metadata": {},
     "output_type": "execute_result"
    }
   ],
   "source": [
    "# pembuatan binary label target yang imbalance (sebagai contoh)\n",
    "df['y_class'] = df['y_int'] > 0.8\n",
    "df['y_class'].value_counts()"
   ]
  },
  {
   "cell_type": "code",
   "execution_count": 34,
   "id": "2453dd04-67f0-40db-b051-6047ce2bf75c",
   "metadata": {},
   "outputs": [
    {
     "name": "stdout",
     "output_type": "stream",
     "text": [
      "(45211, 30)\n",
      "(45211,)\n"
     ]
    }
   ],
   "source": [
    "# pemisahan features vs target\n",
    "X = df[[col for col in df.columns if (str(df[col].dtype) != 'object') and col not in ['y_int', 'y_class']]]\n",
    "y = df['y_class'].values\n",
    "print(X.shape)\n",
    "print(y.shape)"
   ]
  },
  {
   "cell_type": "code",
   "execution_count": 41,
   "id": "7c605665-6aa0-42e0-a00b-5342563cf4c2",
   "metadata": {},
   "outputs": [],
   "source": [
    "X_under, y_under = under_sampling.RandomUnderSampler().fit_resample(X,y)\n",
    "X_over, y_over = over_sampling.RandomOverSampler().fit_resample(X,y)\n",
    "X_over_SMOTE, y_over_SMOTE = over_sampling.SMOTE().fit_resample(X,y)"
   ]
  },
  {
   "cell_type": "code",
   "execution_count": 40,
   "id": "1cf79e67-4f9e-4973-b770-8ad093d9699d",
   "metadata": {},
   "outputs": [
    {
     "name": "stdout",
     "output_type": "stream",
     "text": [
      "Original\n",
      "False    39922\n",
      "True      5289\n",
      "dtype: int64\n",
      "\n",
      "\n",
      "OVERSAMPLING\n",
      "False    39922\n",
      "True     39922\n",
      "dtype: int64\n",
      "\n",
      "\n",
      "UNDERSAMPLING\n",
      "False    5289\n",
      "True     5289\n",
      "dtype: int64\n",
      "\n",
      "\n",
      "SMOTE\n",
      "False    39922\n",
      "True     39922\n",
      "dtype: int64\n"
     ]
    }
   ],
   "source": [
    "print('Original')\n",
    "print(pd.Series(y).value_counts())\n",
    "print('\\n')\n",
    "print('OVERSAMPLING')\n",
    "print(pd.Series(y_over).value_counts())\n",
    "print('\\n')\n",
    "print('UNDERSAMPLING')\n",
    "print(pd.Series(y_under).value_counts())\n",
    "print('\\n')\n",
    "print('SMOTE')\n",
    "print(pd.Series(y_over_SMOTE).value_counts())"
   ]
  },
  {
   "cell_type": "markdown",
   "id": "940ff276-6671-417b-be79-667289812ede",
   "metadata": {},
   "source": [
    "# 2. Feature Engineering"
   ]
  },
  {
   "cell_type": "markdown",
   "id": "d93cb4b7-0aa1-47d3-974a-3c84a9dad1e1",
   "metadata": {},
   "source": [
    "# 2.A. Feature Selection"
   ]
  },
  {
   "cell_type": "code",
   "execution_count": 48,
   "id": "b27ad79b-ed30-4e87-ad62-a2986f9a7bc6",
   "metadata": {},
   "outputs": [
    {
     "data": {
      "image/png": "[encoded data removed]",
      "text/plain": [
       "<Figure size 864x432 with 2 Axes>"
      ]
     },
     "metadata": {
      "needs_background": "light"
     },
     "output_type": "display_data"
    },
    {
     "data": {
      "text/plain": [
       "<Figure size 432x288 with 0 Axes>"
      ]
     },
     "metadata": {},
     "output_type": "display_data"
    }
   ],
   "source": [
    "plt.figure(figsize=(12,6))\n",
    "data = df[nums].corr(method='spearman')\n",
    "sns.heatmap(\n",
    "    data, \n",
    "    mask=np.triu(np.ones_like(data)),\n",
    "    cmap='GnBu', annot=True\n",
    ")\n",
    "plt.show()\n",
    "plt.tight_layout()"
   ]
  },
  {
   "cell_type": "markdown",
   "id": "aeb5f20b-9994-4e9b-b265-03746203d8d6",
   "metadata": {},
   "source": [
    "***Pada kesimpulan diatas karena terdapat mulcolinearity antara `pdays` dan `previous`, maka kolom `pdays` akan di drop.***"
   ]
  },
  {
   "cell_type": "markdown",
   "id": "536a0137-9388-4dae-b7d8-fe16b30dc3d6",
   "metadata": {},
   "source": [
    "# 2.B Feature Extraction"
   ]
  },
  {
   "cell_type": "markdown",
   "id": "f8f5226e-01b0-4ed1-8324-f31d5ddd6b89",
   "metadata": {},
   "source": [
    "Terdapat 2 fitur baru yg dibuat, yaitu:\n",
    "\n",
    "* `month_segment` yg merubah kolom `month`, karena nilai unique   valuenya sangat besar, yaitu 12 maka diperkecil menjadi 4 segment, yaitu dengan melakukan segmentasi berdasarkan, quartil (q1-q4).\n",
    "\n",
    "* `job_freq` yg merubah kolom `job`, karena nilai unique valuenya sama dengan kolom `month`, yaitu 12 maka dilakukan feature engineering dengan mengganti kolom `job` berdasarkan freq nilai banyaknya muncul job tersebut. "
   ]
  },
  {
   "cell_type": "markdown",
   "id": "98463f6b-df8e-444c-b0f7-b3639993dd4e",
   "metadata": {},
   "source": [
    "# 2.C Feature Engineering"
   ]
  },
  {
   "cell_type": "markdown",
   "id": "0c2a6309-daa5-4e2b-a51a-bcac20747e56",
   "metadata": {},
   "source": [
    "* Gender\n",
    "* Jenis Deposito yg diberikan pada nasabah\n",
    "* Cashback /Promo setiap melakukan pembukaan deposito\n",
    "* Nominal minimal pembukaan deposito"
   ]
  },
  {
   "cell_type": "code",
   "execution_count": null,
   "id": "97011e84-3145-4e55-b82a-b854c2d700ca",
   "metadata": {},
   "outputs": [],
   "source": []
  }
 ],
 "metadata": {
  "kernelspec": {
   "display_name": "Python 3 (ipykernel)",
   "language": "python",
   "name": "python3"
  },
  "language_info": {
   "codemirror_mode": {
    "name": "ipython",
    "version": 3
   },
   "file_extension": ".py",
   "mimetype": "text/x-python",
   "name": "python",
   "nbconvert_exporter": "python",
   "pygments_lexer": "ipython3",
   "version": "3.9.12"
  }
 },
 "nbformat": 4,
 "nbformat_minor": 5
}
